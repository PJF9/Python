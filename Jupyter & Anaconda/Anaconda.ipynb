{
 "cells": [
  {
   "cell_type": "markdown",
   "metadata": {},
   "source": [
    "## Why Virtual Enviroments?\n",
    "\n",
    "Virtaul environments are great when we work with bigger projects. Everything we are doing inside the environment doesn't affect the other projects, or the system and even if we install some modules at the virtual environment, they are not accessible from other environments or the system itself. In more details we use virtual environments when we want\n",
    "specific versions of either Python or modules.\n"
   ]
  },
  {
   "cell_type": "markdown",
   "metadata": {},
   "source": [
    "## Creating Anaconda Environment\n",
    "conda create -n venv_name python=python_version (etc python=3.8)\n"
   ]
  },
  {
   "cell_type": "markdown",
   "metadata": {},
   "source": [
    "## Activating-Deactivating Conda Environment\n",
    "\n",
    "conda activate venv_name\n",
    "\n",
    "conda deactivate\n"
   ]
  },
  {
   "cell_type": "markdown",
   "metadata": {},
   "source": [
    "## Listing all the installed modules\n",
    "\n",
    "conda pip list"
   ]
  },
  {
   "cell_type": "markdown",
   "metadata": {},
   "source": [
    "## Installing-Removing a module from the Environment\n",
    "\n",
    "conda install module_name\n",
    "\n",
    "conda remove module_name"
   ]
  },
  {
   "cell_type": "markdown",
   "metadata": {},
   "source": [
    "## Running Python file using Anacoda Environment\n",
    "\n",
    "We need to go to the directory that the file is stored. After that we use the following command:\n",
    "\n",
    "python file_name.py"
   ]
  },
  {
   "cell_type": "markdown",
   "metadata": {},
   "source": [
    "## Listing all the Conda Environments\n",
    "\n",
    "conda env list"
   ]
  },
  {
   "cell_type": "markdown",
   "metadata": {},
   "source": [
    "## Conda Base Environment\n",
    "\n",
    "Its the predeclare environment that Anaconda has created for us. All the modules that have been install in the side environments can also be accessed from the base environment. The reverse thing are not allowed."
   ]
  },
  {
   "cell_type": "markdown",
   "metadata": {},
   "source": [
    "\n",
    "## Deleting an Environment\n",
    "\n",
    "conda env remove -n venc_name"
   ]
  }
 ],
 "metadata": {
  "kernelspec": {
   "display_name": "Python 3",
   "language": "python",
   "name": "python3"
  },
  "language_info": {
   "codemirror_mode": {
    "name": "ipython",
    "version": 3
   },
   "file_extension": ".py",
   "mimetype": "text/x-python",
   "name": "python",
   "nbconvert_exporter": "python",
   "pygments_lexer": "ipython3",
   "version": "3.8.5"
  }
 },
 "nbformat": 4,
 "nbformat_minor": 4
}
